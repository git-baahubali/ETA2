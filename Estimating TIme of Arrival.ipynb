{
 "cells": [
  {
   "cell_type": "markdown",
   "id": "76c20415-473f-4c16-b945-a6fa001f4c21",
   "metadata": {
    "jp-MarkdownHeadingCollapsed": true
   },
   "source": [
    "# Importing  Dataset"
   ]
  },
  {
   "cell_type": "code",
   "execution_count": null,
   "id": "542576e0",
   "metadata": {},
   "outputs": [],
   "source": []
  },
  {
   "cell_type": "code",
   "execution_count": 1,
   "id": "492bf711-88ff-48e3-8b9c-bee2ce8cd996",
   "metadata": {
    "scrolled": true
   },
   "outputs": [
    {
     "data": {
      "text/html": [
       "<div>\n",
       "<style scoped>\n",
       "    .dataframe tbody tr th:only-of-type {\n",
       "        vertical-align: middle;\n",
       "    }\n",
       "\n",
       "    .dataframe tbody tr th {\n",
       "        vertical-align: top;\n",
       "    }\n",
       "\n",
       "    .dataframe thead th {\n",
       "        text-align: right;\n",
       "    }\n",
       "</style>\n",
       "<table border=\"1\" class=\"dataframe\">\n",
       "  <thead>\n",
       "    <tr style=\"text-align: right;\">\n",
       "      <th></th>\n",
       "      <th>start_lat</th>\n",
       "      <th>start_lng</th>\n",
       "      <th>end_lat</th>\n",
       "      <th>end_lng</th>\n",
       "      <th>distance_km</th>\n",
       "      <th>traffic_density</th>\n",
       "      <th>weather_condition</th>\n",
       "      <th>day_of_week</th>\n",
       "      <th>hour_of_day</th>\n",
       "      <th>ETA</th>\n",
       "    </tr>\n",
       "  </thead>\n",
       "  <tbody>\n",
       "    <tr>\n",
       "      <th>0</th>\n",
       "      <td>17.312362</td>\n",
       "      <td>78.355540</td>\n",
       "      <td>17.278512</td>\n",
       "      <td>78.501811</td>\n",
       "      <td>17.587880</td>\n",
       "      <td>3</td>\n",
       "      <td>rainy</td>\n",
       "      <td>3</td>\n",
       "      <td>17</td>\n",
       "      <td>26.113020</td>\n",
       "    </tr>\n",
       "    <tr>\n",
       "      <th>1</th>\n",
       "      <td>17.485214</td>\n",
       "      <td>78.462570</td>\n",
       "      <td>17.274094</td>\n",
       "      <td>78.539004</td>\n",
       "      <td>24.357538</td>\n",
       "      <td>8</td>\n",
       "      <td>clear</td>\n",
       "      <td>5</td>\n",
       "      <td>14</td>\n",
       "      <td>58.715248</td>\n",
       "    </tr>\n",
       "    <tr>\n",
       "      <th>2</th>\n",
       "      <td>17.419598</td>\n",
       "      <td>78.561884</td>\n",
       "      <td>17.471876</td>\n",
       "      <td>78.375140</td>\n",
       "      <td>23.044667</td>\n",
       "      <td>7</td>\n",
       "      <td>rainy</td>\n",
       "      <td>6</td>\n",
       "      <td>8</td>\n",
       "      <td>59.316409</td>\n",
       "    </tr>\n",
       "    <tr>\n",
       "      <th>3</th>\n",
       "      <td>17.379598</td>\n",
       "      <td>78.519667</td>\n",
       "      <td>17.274864</td>\n",
       "      <td>78.487462</td>\n",
       "      <td>5.463097</td>\n",
       "      <td>3</td>\n",
       "      <td>clear</td>\n",
       "      <td>2</td>\n",
       "      <td>17</td>\n",
       "      <td>35.630253</td>\n",
       "    </tr>\n",
       "    <tr>\n",
       "      <th>4</th>\n",
       "      <td>17.246806</td>\n",
       "      <td>78.541968</td>\n",
       "      <td>17.281585</td>\n",
       "      <td>78.471524</td>\n",
       "      <td>5.328235</td>\n",
       "      <td>6</td>\n",
       "      <td>clear</td>\n",
       "      <td>1</td>\n",
       "      <td>2</td>\n",
       "      <td>56.713490</td>\n",
       "    </tr>\n",
       "    <tr>\n",
       "      <th>...</th>\n",
       "      <td>...</td>\n",
       "      <td>...</td>\n",
       "      <td>...</td>\n",
       "      <td>...</td>\n",
       "      <td>...</td>\n",
       "      <td>...</td>\n",
       "      <td>...</td>\n",
       "      <td>...</td>\n",
       "      <td>...</td>\n",
       "      <td>...</td>\n",
       "    </tr>\n",
       "    <tr>\n",
       "      <th>995</th>\n",
       "      <td>17.227475</td>\n",
       "      <td>78.497087</td>\n",
       "      <td>17.459589</td>\n",
       "      <td>78.432632</td>\n",
       "      <td>27.024522</td>\n",
       "      <td>9</td>\n",
       "      <td>clear</td>\n",
       "      <td>2</td>\n",
       "      <td>4</td>\n",
       "      <td>18.585042</td>\n",
       "    </tr>\n",
       "    <tr>\n",
       "      <th>996</th>\n",
       "      <td>17.475194</td>\n",
       "      <td>78.586984</td>\n",
       "      <td>17.247182</td>\n",
       "      <td>78.400320</td>\n",
       "      <td>4.462049</td>\n",
       "      <td>1</td>\n",
       "      <td>rainy</td>\n",
       "      <td>5</td>\n",
       "      <td>14</td>\n",
       "      <td>42.688225</td>\n",
       "    </tr>\n",
       "    <tr>\n",
       "      <th>997</th>\n",
       "      <td>17.241046</td>\n",
       "      <td>78.320687</td>\n",
       "      <td>17.292936</td>\n",
       "      <td>78.418372</td>\n",
       "      <td>10.507442</td>\n",
       "      <td>1</td>\n",
       "      <td>clear</td>\n",
       "      <td>5</td>\n",
       "      <td>12</td>\n",
       "      <td>11.273635</td>\n",
       "    </tr>\n",
       "    <tr>\n",
       "      <th>998</th>\n",
       "      <td>17.485071</td>\n",
       "      <td>78.317116</td>\n",
       "      <td>17.287014</td>\n",
       "      <td>78.458982</td>\n",
       "      <td>24.656616</td>\n",
       "      <td>4</td>\n",
       "      <td>rainy</td>\n",
       "      <td>5</td>\n",
       "      <td>12</td>\n",
       "      <td>13.180450</td>\n",
       "    </tr>\n",
       "    <tr>\n",
       "      <th>999</th>\n",
       "      <td>17.333802</td>\n",
       "      <td>78.384656</td>\n",
       "      <td>17.461424</td>\n",
       "      <td>78.348410</td>\n",
       "      <td>18.322059</td>\n",
       "      <td>4</td>\n",
       "      <td>rainy</td>\n",
       "      <td>3</td>\n",
       "      <td>12</td>\n",
       "      <td>21.053944</td>\n",
       "    </tr>\n",
       "  </tbody>\n",
       "</table>\n",
       "<p>1000 rows × 10 columns</p>\n",
       "</div>"
      ],
      "text/plain": [
       "     start_lat  start_lng    end_lat    end_lng  distance_km  traffic_density  \\\n",
       "0    17.312362  78.355540  17.278512  78.501811    17.587880                3   \n",
       "1    17.485214  78.462570  17.274094  78.539004    24.357538                8   \n",
       "2    17.419598  78.561884  17.471876  78.375140    23.044667                7   \n",
       "3    17.379598  78.519667  17.274864  78.487462     5.463097                3   \n",
       "4    17.246806  78.541968  17.281585  78.471524     5.328235                6   \n",
       "..         ...        ...        ...        ...          ...              ...   \n",
       "995  17.227475  78.497087  17.459589  78.432632    27.024522                9   \n",
       "996  17.475194  78.586984  17.247182  78.400320     4.462049                1   \n",
       "997  17.241046  78.320687  17.292936  78.418372    10.507442                1   \n",
       "998  17.485071  78.317116  17.287014  78.458982    24.656616                4   \n",
       "999  17.333802  78.384656  17.461424  78.348410    18.322059                4   \n",
       "\n",
       "    weather_condition  day_of_week  hour_of_day        ETA  \n",
       "0               rainy            3           17  26.113020  \n",
       "1               clear            5           14  58.715248  \n",
       "2               rainy            6            8  59.316409  \n",
       "3               clear            2           17  35.630253  \n",
       "4               clear            1            2  56.713490  \n",
       "..                ...          ...          ...        ...  \n",
       "995             clear            2            4  18.585042  \n",
       "996             rainy            5           14  42.688225  \n",
       "997             clear            5           12  11.273635  \n",
       "998             rainy            5           12  13.180450  \n",
       "999             rainy            3           12  21.053944  \n",
       "\n",
       "[1000 rows x 10 columns]"
      ]
     },
     "execution_count": 1,
     "metadata": {},
     "output_type": "execute_result"
    }
   ],
   "source": [
    "import pandas as pd\n",
    "df = pd.read_csv(r\"./hyderabad_eta_data.csv\")\n",
    "df"
   ]
  },
  {
   "cell_type": "markdown",
   "id": "6ba4e79e-1d27-4c42-ac52-4bdca1766828",
   "metadata": {},
   "source": [
    "# Data Preprocessing"
   ]
  },
  {
   "cell_type": "code",
   "execution_count": 2,
   "id": "df6d396e-8a2c-4d75-b899-3c048e434d77",
   "metadata": {},
   "outputs": [
    {
     "data": {
      "text/plain": [
       "start_lat            0\n",
       "start_lng            0\n",
       "end_lat              0\n",
       "end_lng              0\n",
       "distance_km          0\n",
       "traffic_density      0\n",
       "weather_condition    0\n",
       "day_of_week          0\n",
       "hour_of_day          0\n",
       "ETA                  0\n",
       "dtype: int64"
      ]
     },
     "execution_count": 2,
     "metadata": {},
     "output_type": "execute_result"
    }
   ],
   "source": [
    "df.isna().sum()"
   ]
  },
  {
   "cell_type": "code",
   "execution_count": 3,
   "id": "43c14def-21b2-4bdd-9591-6f1d364b6a69",
   "metadata": {},
   "outputs": [
    {
     "data": {
      "text/html": [
       "<div>\n",
       "<style scoped>\n",
       "    .dataframe tbody tr th:only-of-type {\n",
       "        vertical-align: middle;\n",
       "    }\n",
       "\n",
       "    .dataframe tbody tr th {\n",
       "        vertical-align: top;\n",
       "    }\n",
       "\n",
       "    .dataframe thead th {\n",
       "        text-align: right;\n",
       "    }\n",
       "</style>\n",
       "<table border=\"1\" class=\"dataframe\">\n",
       "  <thead>\n",
       "    <tr style=\"text-align: right;\">\n",
       "      <th></th>\n",
       "      <th>start_lat</th>\n",
       "      <th>start_lng</th>\n",
       "      <th>end_lat</th>\n",
       "      <th>end_lng</th>\n",
       "      <th>distance_km</th>\n",
       "      <th>traffic_density</th>\n",
       "      <th>day_of_week</th>\n",
       "      <th>hour_of_day</th>\n",
       "      <th>ETA</th>\n",
       "    </tr>\n",
       "  </thead>\n",
       "  <tbody>\n",
       "    <tr>\n",
       "      <th>start_lat</th>\n",
       "      <td>1.000000</td>\n",
       "      <td>0.029310</td>\n",
       "      <td>0.014518</td>\n",
       "      <td>-0.029424</td>\n",
       "      <td>0.034785</td>\n",
       "      <td>-0.024754</td>\n",
       "      <td>0.055406</td>\n",
       "      <td>-0.014557</td>\n",
       "      <td>-0.030701</td>\n",
       "    </tr>\n",
       "    <tr>\n",
       "      <th>start_lng</th>\n",
       "      <td>0.029310</td>\n",
       "      <td>1.000000</td>\n",
       "      <td>0.027262</td>\n",
       "      <td>-0.005791</td>\n",
       "      <td>0.032911</td>\n",
       "      <td>0.000297</td>\n",
       "      <td>-0.048353</td>\n",
       "      <td>0.014242</td>\n",
       "      <td>-0.007978</td>\n",
       "    </tr>\n",
       "    <tr>\n",
       "      <th>end_lat</th>\n",
       "      <td>0.014518</td>\n",
       "      <td>0.027262</td>\n",
       "      <td>1.000000</td>\n",
       "      <td>-0.013560</td>\n",
       "      <td>-0.008858</td>\n",
       "      <td>-0.014043</td>\n",
       "      <td>-0.057856</td>\n",
       "      <td>-0.006245</td>\n",
       "      <td>0.061752</td>\n",
       "    </tr>\n",
       "    <tr>\n",
       "      <th>end_lng</th>\n",
       "      <td>-0.029424</td>\n",
       "      <td>-0.005791</td>\n",
       "      <td>-0.013560</td>\n",
       "      <td>1.000000</td>\n",
       "      <td>-0.044812</td>\n",
       "      <td>0.034494</td>\n",
       "      <td>0.017789</td>\n",
       "      <td>-0.012494</td>\n",
       "      <td>0.009425</td>\n",
       "    </tr>\n",
       "    <tr>\n",
       "      <th>distance_km</th>\n",
       "      <td>0.034785</td>\n",
       "      <td>0.032911</td>\n",
       "      <td>-0.008858</td>\n",
       "      <td>-0.044812</td>\n",
       "      <td>1.000000</td>\n",
       "      <td>-0.031475</td>\n",
       "      <td>0.066093</td>\n",
       "      <td>0.022646</td>\n",
       "      <td>-0.008686</td>\n",
       "    </tr>\n",
       "    <tr>\n",
       "      <th>traffic_density</th>\n",
       "      <td>-0.024754</td>\n",
       "      <td>0.000297</td>\n",
       "      <td>-0.014043</td>\n",
       "      <td>0.034494</td>\n",
       "      <td>-0.031475</td>\n",
       "      <td>1.000000</td>\n",
       "      <td>-0.010457</td>\n",
       "      <td>0.018572</td>\n",
       "      <td>-0.009196</td>\n",
       "    </tr>\n",
       "    <tr>\n",
       "      <th>day_of_week</th>\n",
       "      <td>0.055406</td>\n",
       "      <td>-0.048353</td>\n",
       "      <td>-0.057856</td>\n",
       "      <td>0.017789</td>\n",
       "      <td>0.066093</td>\n",
       "      <td>-0.010457</td>\n",
       "      <td>1.000000</td>\n",
       "      <td>0.020010</td>\n",
       "      <td>0.072280</td>\n",
       "    </tr>\n",
       "    <tr>\n",
       "      <th>hour_of_day</th>\n",
       "      <td>-0.014557</td>\n",
       "      <td>0.014242</td>\n",
       "      <td>-0.006245</td>\n",
       "      <td>-0.012494</td>\n",
       "      <td>0.022646</td>\n",
       "      <td>0.018572</td>\n",
       "      <td>0.020010</td>\n",
       "      <td>1.000000</td>\n",
       "      <td>0.009233</td>\n",
       "    </tr>\n",
       "    <tr>\n",
       "      <th>ETA</th>\n",
       "      <td>-0.030701</td>\n",
       "      <td>-0.007978</td>\n",
       "      <td>0.061752</td>\n",
       "      <td>0.009425</td>\n",
       "      <td>-0.008686</td>\n",
       "      <td>-0.009196</td>\n",
       "      <td>0.072280</td>\n",
       "      <td>0.009233</td>\n",
       "      <td>1.000000</td>\n",
       "    </tr>\n",
       "  </tbody>\n",
       "</table>\n",
       "</div>"
      ],
      "text/plain": [
       "                 start_lat  start_lng   end_lat   end_lng  distance_km  \\\n",
       "start_lat         1.000000   0.029310  0.014518 -0.029424     0.034785   \n",
       "start_lng         0.029310   1.000000  0.027262 -0.005791     0.032911   \n",
       "end_lat           0.014518   0.027262  1.000000 -0.013560    -0.008858   \n",
       "end_lng          -0.029424  -0.005791 -0.013560  1.000000    -0.044812   \n",
       "distance_km       0.034785   0.032911 -0.008858 -0.044812     1.000000   \n",
       "traffic_density  -0.024754   0.000297 -0.014043  0.034494    -0.031475   \n",
       "day_of_week       0.055406  -0.048353 -0.057856  0.017789     0.066093   \n",
       "hour_of_day      -0.014557   0.014242 -0.006245 -0.012494     0.022646   \n",
       "ETA              -0.030701  -0.007978  0.061752  0.009425    -0.008686   \n",
       "\n",
       "                 traffic_density  day_of_week  hour_of_day       ETA  \n",
       "start_lat              -0.024754     0.055406    -0.014557 -0.030701  \n",
       "start_lng               0.000297    -0.048353     0.014242 -0.007978  \n",
       "end_lat                -0.014043    -0.057856    -0.006245  0.061752  \n",
       "end_lng                 0.034494     0.017789    -0.012494  0.009425  \n",
       "distance_km            -0.031475     0.066093     0.022646 -0.008686  \n",
       "traffic_density         1.000000    -0.010457     0.018572 -0.009196  \n",
       "day_of_week            -0.010457     1.000000     0.020010  0.072280  \n",
       "hour_of_day             0.018572     0.020010     1.000000  0.009233  \n",
       "ETA                    -0.009196     0.072280     0.009233  1.000000  "
      ]
     },
     "execution_count": 3,
     "metadata": {},
     "output_type": "execute_result"
    }
   ],
   "source": [
    "df.corr(numeric_only = True)"
   ]
  },
  {
   "cell_type": "markdown",
   "id": "53e804d3-7e0a-43d3-a2e7-a44993595c9a",
   "metadata": {},
   "source": [
    "# Data Cleaning"
   ]
  },
  {
   "cell_type": "markdown",
   "id": "46d782e6-6a7e-47ca-821e-2037642c9cf7",
   "metadata": {},
   "source": [
    "# Data Cleaning"
   ]
  },
  {
   "cell_type": "code",
   "execution_count": 4,
   "id": "b2a0a174-83ab-43dd-9981-584f7fc071d8",
   "metadata": {},
   "outputs": [
    {
     "data": {
      "text/plain": [
       "0      1\n",
       "1      3\n",
       "2      1\n",
       "3      3\n",
       "4      3\n",
       "      ..\n",
       "995    3\n",
       "996    1\n",
       "997    3\n",
       "998    1\n",
       "999    1\n",
       "Name: weather_condition, Length: 1000, dtype: int64"
      ]
     },
     "execution_count": 4,
     "metadata": {},
     "output_type": "execute_result"
    }
   ],
   "source": [
    "df['weather_condition'].unique()\n",
    "df['weather_condition'] = df['weather_condition'].map({ \"rainy\":1, \"foggy\":2, \"clear\":3})\n",
    "df.weather_condition"
   ]
  },
  {
   "cell_type": "code",
   "execution_count": 5,
   "id": "c8369ed1-3fcc-44ae-9281-cd643bd16c4f",
   "metadata": {},
   "outputs": [],
   "source": [
    "# Drop distance_km & traffice_density\n",
    "df.drop([ 'distance_km','traffic_density'], axis=1, inplace=True)"
   ]
  },
  {
   "cell_type": "markdown",
   "id": "b56759e8-829a-4003-8428-e2b332fb76ba",
   "metadata": {},
   "source": [
    "# Model Building"
   ]
  },
  {
   "cell_type": "markdown",
   "id": "9896496f-8eb2-4e03-829b-7187bed7bcd2",
   "metadata": {},
   "source": [
    "#### splitting Input and Output"
   ]
  },
  {
   "cell_type": "code",
   "execution_count": 6,
   "id": "10d51b9c-e141-4035-9e71-2d17c5f3ce4a",
   "metadata": {},
   "outputs": [
    {
     "data": {
      "text/html": [
       "<div>\n",
       "<style scoped>\n",
       "    .dataframe tbody tr th:only-of-type {\n",
       "        vertical-align: middle;\n",
       "    }\n",
       "\n",
       "    .dataframe tbody tr th {\n",
       "        vertical-align: top;\n",
       "    }\n",
       "\n",
       "    .dataframe thead th {\n",
       "        text-align: right;\n",
       "    }\n",
       "</style>\n",
       "<table border=\"1\" class=\"dataframe\">\n",
       "  <thead>\n",
       "    <tr style=\"text-align: right;\">\n",
       "      <th></th>\n",
       "      <th>start_lat</th>\n",
       "      <th>start_lng</th>\n",
       "      <th>end_lat</th>\n",
       "      <th>end_lng</th>\n",
       "      <th>weather_condition</th>\n",
       "      <th>day_of_week</th>\n",
       "      <th>hour_of_day</th>\n",
       "      <th>ETA</th>\n",
       "    </tr>\n",
       "  </thead>\n",
       "  <tbody>\n",
       "    <tr>\n",
       "      <th>0</th>\n",
       "      <td>17.312362</td>\n",
       "      <td>78.355540</td>\n",
       "      <td>17.278512</td>\n",
       "      <td>78.501811</td>\n",
       "      <td>1</td>\n",
       "      <td>3</td>\n",
       "      <td>17</td>\n",
       "      <td>26.113020</td>\n",
       "    </tr>\n",
       "    <tr>\n",
       "      <th>1</th>\n",
       "      <td>17.485214</td>\n",
       "      <td>78.462570</td>\n",
       "      <td>17.274094</td>\n",
       "      <td>78.539004</td>\n",
       "      <td>3</td>\n",
       "      <td>5</td>\n",
       "      <td>14</td>\n",
       "      <td>58.715248</td>\n",
       "    </tr>\n",
       "    <tr>\n",
       "      <th>2</th>\n",
       "      <td>17.419598</td>\n",
       "      <td>78.561884</td>\n",
       "      <td>17.471876</td>\n",
       "      <td>78.375140</td>\n",
       "      <td>1</td>\n",
       "      <td>6</td>\n",
       "      <td>8</td>\n",
       "      <td>59.316409</td>\n",
       "    </tr>\n",
       "    <tr>\n",
       "      <th>3</th>\n",
       "      <td>17.379598</td>\n",
       "      <td>78.519667</td>\n",
       "      <td>17.274864</td>\n",
       "      <td>78.487462</td>\n",
       "      <td>3</td>\n",
       "      <td>2</td>\n",
       "      <td>17</td>\n",
       "      <td>35.630253</td>\n",
       "    </tr>\n",
       "    <tr>\n",
       "      <th>4</th>\n",
       "      <td>17.246806</td>\n",
       "      <td>78.541968</td>\n",
       "      <td>17.281585</td>\n",
       "      <td>78.471524</td>\n",
       "      <td>3</td>\n",
       "      <td>1</td>\n",
       "      <td>2</td>\n",
       "      <td>56.713490</td>\n",
       "    </tr>\n",
       "  </tbody>\n",
       "</table>\n",
       "</div>"
      ],
      "text/plain": [
       "   start_lat  start_lng    end_lat    end_lng  weather_condition  day_of_week  \\\n",
       "0  17.312362  78.355540  17.278512  78.501811                  1            3   \n",
       "1  17.485214  78.462570  17.274094  78.539004                  3            5   \n",
       "2  17.419598  78.561884  17.471876  78.375140                  1            6   \n",
       "3  17.379598  78.519667  17.274864  78.487462                  3            2   \n",
       "4  17.246806  78.541968  17.281585  78.471524                  3            1   \n",
       "\n",
       "   hour_of_day        ETA  \n",
       "0           17  26.113020  \n",
       "1           14  58.715248  \n",
       "2            8  59.316409  \n",
       "3           17  35.630253  \n",
       "4            2  56.713490  "
      ]
     },
     "execution_count": 6,
     "metadata": {},
     "output_type": "execute_result"
    }
   ],
   "source": [
    "df.head()"
   ]
  },
  {
   "cell_type": "code",
   "execution_count": 7,
   "id": "48e9b631-dfc0-4f5c-925d-2d4570bc2191",
   "metadata": {},
   "outputs": [],
   "source": [
    "X = df.drop('ETA', axis = 1)\n",
    "Y = df['ETA']"
   ]
  },
  {
   "cell_type": "markdown",
   "id": "b277f528-2d83-491b-a7a9-181219a0fb0f",
   "metadata": {},
   "source": [
    "# import ML library"
   ]
  },
  {
   "cell_type": "code",
   "execution_count": 8,
   "id": "9d9fb5c2-fe39-4495-8a9e-1610b8764b96",
   "metadata": {},
   "outputs": [],
   "source": [
    "# !pip install scikit-learn"
   ]
  },
  {
   "cell_type": "code",
   "execution_count": 9,
   "id": "128f8d41-c10a-4fcd-9ab8-5853b348858d",
   "metadata": {},
   "outputs": [],
   "source": [
    "from sklearn.model_selection import  train_test_split\n",
    "from sklearn.metrics import mean_squared_error\n",
    "\n",
    "\n",
    "X_train, X_test, Y_train, Y_test = train_test_split(X,Y,test_size = 0.2, random_state = 23)"
   ]
  },
  {
   "cell_type": "markdown",
   "id": "be677a6e-b155-426d-b3a8-6d68516cef01",
   "metadata": {},
   "source": [
    "# Linear Regression"
   ]
  },
  {
   "cell_type": "code",
   "execution_count": 10,
   "id": "1cf894bd-567c-420e-9213-be734e1358cd",
   "metadata": {},
   "outputs": [
    {
     "name": "stdout",
     "output_type": "stream",
     "text": [
      "[35.21595854 33.02259368 33.23323621 35.32015914 34.52174725 37.18360561\n",
      " 34.76853566 37.42759515 35.94783413 33.89382638 31.77979905 31.98226443\n",
      " 33.35400739 38.59005958 35.60943341 34.55938218 34.9608906  33.59108683\n",
      " 35.02515788 37.7759728  35.57152734 37.33364482 34.02596659 35.35879381\n",
      " 36.42478122 37.17376285 33.51925236 32.85886322 37.76658648 35.14154156\n",
      " 33.52350009 35.12470128 34.6029801  35.67168465 36.14790621 30.96980794\n",
      " 37.2102776  36.92854578 35.39734186 33.18814766 35.53370351 34.03745729\n",
      " 36.41944701 36.17630529 36.06905447 36.03455393 34.62992298 32.35807927\n",
      " 37.6125646  35.96227019 33.49331688 34.2842563  36.03461527 37.50303008\n",
      " 34.25829037 35.39600299 35.12422487 36.22609826 34.643424   35.57983651\n",
      " 36.64943378 34.77052255 32.37662979 33.96877887 38.83802121 35.78480185\n",
      " 36.52704233 35.32974498 35.51195838 34.37450457 38.94123039 37.74860246\n",
      " 37.13864589 34.70333737 35.79591134 35.66408214 37.03939713 31.93887644\n",
      " 36.69530703 34.5477756  33.96303879 34.9170527  36.4915252  36.57186873\n",
      " 37.06595716 36.01797622 36.09990334 38.00358082 36.04990054 38.32644659\n",
      " 32.92495949 36.89947218 36.14270691 37.23503757 33.53542422 33.6493143\n",
      " 33.6616725  38.49089646 36.6962064  31.87402765 35.39195427 32.24285205\n",
      " 37.0724196  36.50273624 38.74012705 35.15537061 37.38774804 34.76522889\n",
      " 35.66047941 37.66149312 34.21888665 37.37889478 34.20576789 33.62291113\n",
      " 35.67803525 36.00011321 33.11770195 34.34530619 36.79778809 35.51692892\n",
      " 36.44556267 37.01797481 36.42516439 37.39034483 37.0451128  37.22779284\n",
      " 34.83793069 34.88422117 34.56311753 34.24121257 34.64570675 32.71537199\n",
      " 37.70331589 36.22658405 38.18132324 37.0520967  34.76707778 33.58108047\n",
      " 32.16099392 34.61480654 37.27479117 36.19102577 37.55163428 35.61769965\n",
      " 34.25950717 35.70078771 35.16183232 37.39717085 35.98006791 39.09941657\n",
      " 34.24742466 33.09727202 36.98046611 35.64118942 35.40608262 36.01248377\n",
      " 35.38852777 37.53963967 39.0928642  33.88186091 34.90746007 34.38123001\n",
      " 37.69753927 31.98039142 34.69502014 37.17731307 39.15734392 34.15656139\n",
      " 36.16939692 37.37182889 35.21997724 34.03142328 35.09329842 36.11303235\n",
      " 34.97584804 37.91970598 36.37039977 35.75759333 34.98369504 35.47803954\n",
      " 33.36175846 33.77347204 34.72031302 34.6683515  36.75014382 32.61313493\n",
      " 35.36564512 34.22495523 37.09260519 33.45023927 33.89521573 34.28416696\n",
      " 33.74790935 35.08012382 35.41271969 32.75696099 38.56400418 36.03004634\n",
      " 31.50459175 34.74077688]\n"
     ]
    }
   ],
   "source": [
    "from sklearn.linear_model import LinearRegression\n",
    "lr = LinearRegression()\n",
    "lr.fit( X_train, Y_train )\n",
    "Y_prediction = lr.predict( X_test )\n",
    "print(Y_prediction)\n",
    "# from sklearn.metrics import mean_squared_error\n",
    "# mean_squared_error( Y_test, Y_prediction )"
   ]
  },
  {
   "cell_type": "markdown",
   "id": "c5adf044",
   "metadata": {},
   "source": [
    "# Pickle the Model"
   ]
  },
  {
   "cell_type": "code",
   "execution_count": 11,
   "id": "430e5e3a",
   "metadata": {},
   "outputs": [],
   "source": [
    "import pickle "
   ]
  },
  {
   "cell_type": "code",
   "execution_count": 12,
   "id": "cb53c0d4",
   "metadata": {},
   "outputs": [],
   "source": [
    "pickle.dump(lr, open(\"estimator.pkl\", 'wb'))"
   ]
  },
  {
   "cell_type": "code",
   "execution_count": 13,
   "id": "8d6e9913",
   "metadata": {},
   "outputs": [],
   "source": [
    "model = pickle.load( open(\"estimator.pkl\",\"rb\"))"
   ]
  },
  {
   "cell_type": "code",
   "execution_count": null,
   "id": "c1cd59b6",
   "metadata": {},
   "outputs": [],
   "source": []
  },
  {
   "cell_type": "markdown",
   "id": "b2632cd4-5429-4231-8cc4-205900396caf",
   "metadata": {},
   "source": [
    "# Evalution"
   ]
  },
  {
   "cell_type": "code",
   "execution_count": 14,
   "id": "7cd7c2c3-543e-49e1-8726-c48d1f1612b8",
   "metadata": {},
   "outputs": [
    {
     "data": {
      "text/plain": [
       "227.07258113670778"
      ]
     },
     "execution_count": 14,
     "metadata": {},
     "output_type": "execute_result"
    }
   ],
   "source": [
    "from sklearn.metrics import mean_squared_error\n",
    "mean_squared_error( Y_test, Y_prediction )"
   ]
  },
  {
   "cell_type": "markdown",
   "id": "f441ca48-cee3-43ed-84a1-b6b97ec0f305",
   "metadata": {},
   "source": [
    "# KNN Regression"
   ]
  },
  {
   "cell_type": "code",
   "execution_count": 15,
   "id": "fc8ce663-d65a-4a2d-9794-f787d59a8f18",
   "metadata": {},
   "outputs": [
    {
     "data": {
      "text/plain": [
       "257.4764670296822"
      ]
     },
     "execution_count": 15,
     "metadata": {},
     "output_type": "execute_result"
    }
   ],
   "source": [
    "from sklearn.neighbors import KNeighborsRegressor\n",
    "knn = KNeighborsRegressor()\n",
    "knn.fit( X_train, Y_train )\n",
    "Y_prediction = knn.predict( X_test )\n",
    "# print(Y_prediction)\n",
    "mean_squared_error( Y_test, Y_prediction )"
   ]
  },
  {
   "cell_type": "markdown",
   "id": "9e23e083-6eec-477e-82a8-8423ee0f583a",
   "metadata": {},
   "source": [
    "# Decision Tree"
   ]
  },
  {
   "cell_type": "code",
   "execution_count": 16,
   "id": "ad515ecc-eb4b-4cd6-8996-1be5a86b6302",
   "metadata": {},
   "outputs": [
    {
     "data": {
      "text/plain": [
       "427.92975111470497"
      ]
     },
     "execution_count": 16,
     "metadata": {},
     "output_type": "execute_result"
    }
   ],
   "source": [
    "from sklearn.tree import DecisionTreeRegressor\n",
    "dt = DecisionTreeRegressor()\n",
    "dt.fit( X_train, Y_train )\n",
    "Y_prediction = dt.predict( X_test )\n",
    "# print(Y_prediction)\n",
    "mean_squared_error( Y_test, Y_prediction )"
   ]
  },
  {
   "cell_type": "markdown",
   "id": "acc180e1-c82b-479e-9142-2c1006130805",
   "metadata": {},
   "source": [
    "# SVR"
   ]
  },
  {
   "cell_type": "code",
   "execution_count": 17,
   "id": "d759e4f2-8c4c-4037-bcda-1cd23c2a22df",
   "metadata": {},
   "outputs": [
    {
     "data": {
      "text/plain": [
       "226.5874233263822"
      ]
     },
     "execution_count": 17,
     "metadata": {},
     "output_type": "execute_result"
    }
   ],
   "source": [
    "from sklearn.svm import SVR\n",
    "svr = SVR()\n",
    "svr.fit( X_train, Y_train )\n",
    "Y_prediction = svr.predict( X_test )\n",
    "# print(Y_prediction)\n",
    "mean_squared_error( Y_test, Y_prediction )"
   ]
  },
  {
   "cell_type": "markdown",
   "id": "9aaebcf5-f142-43b1-b8bf-cbffc10dfa31",
   "metadata": {},
   "source": [
    "# Chetha"
   ]
  },
  {
   "cell_type": "code",
   "execution_count": 18,
   "id": "b74843bd-0c01-4033-9c2c-ca91ea14a2f5",
   "metadata": {},
   "outputs": [
    {
     "name": "stdout",
     "output_type": "stream",
     "text": [
      "   start_lat  start_lng    end_lat    end_lng  distance_km  traffic_density  \\\n",
      "0  17.312362  78.355540  17.278512  78.501811    17.587880                3   \n",
      "1  17.485214  78.462570  17.274094  78.539004    24.357538                8   \n",
      "2  17.419598  78.561884  17.471876  78.375140    23.044667                7   \n",
      "3  17.379598  78.519667  17.274864  78.487462     5.463097                3   \n",
      "4  17.412362  78.365540  17.288512  78.511811    18.587880                4   \n",
      "5  17.495214  78.472570  17.284094  78.549004    25.357538                9   \n",
      "6  17.429598  78.571884  17.481876  78.385140    24.044667                6   \n",
      "7  17.389598  78.529667  17.284864  78.497462     6.463097                2   \n",
      "8  17.459214  78.582570  17.294094  78.509004    27.357538                7   \n",
      "\n",
      "  weather_condition  day_of_week  hour_of_day        ETA  \n",
      "0             rainy            3           17  26.113020  \n",
      "1             clear            5           14  58.715248  \n",
      "2             rainy            6            8  59.316409  \n",
      "3             clear            2           17  35.630253  \n",
      "4            cloudy            4           18  27.113020  \n",
      "5             rainy            6           12  60.715248  \n",
      "6             clear            1           10  57.316409  \n",
      "7            cloudy            3           15  36.630253  \n",
      "8             clear            5           13  63.715248  \n"
     ]
    }
   ],
   "source": [
    "import pandas as pd\n",
    "import numpy as np\n",
    "\n",
    "# Provided data\n",
    "data = {\n",
    "    'start_lat': [17.31236204, 17.48521429, 17.41959818, 17.37959755],\n",
    "    'start_lng': [78.35553988, 78.46257028, 78.56188375, 78.51966747],\n",
    "    'end_lat': [17.27851171, 17.27409364, 17.47187637, 17.27486386],\n",
    "    'end_lng': [78.5018109, 78.53900442, 78.37514037, 78.48746223],\n",
    "    'distance_km': [17.58788047, 24.35753755, 23.04466696, 5.463097236],\n",
    "    'traffic_density': [3, 8, 7, 3],\n",
    "    'weather_condition': ['rainy', 'clear', 'rainy', 'clear'],\n",
    "    'day_of_week': [3, 5, 6, 2],\n",
    "    'hour_of_day': [17, 14, 8, 17],\n",
    "    'ETA': [26.11301969, 58.71524816, 59.31640868, 35.63025265]\n",
    "}\n",
    "\n",
    "# Generate additional data\n",
    "additional_data = {\n",
    "    'start_lat': [17.41236204, 17.49521429, 17.42959818, 17.38959755, 17.45921429],\n",
    "    'start_lng': [78.36553988, 78.47257028, 78.57188375, 78.52966747, 78.58257028],\n",
    "    'end_lat': [17.28851171, 17.28409364, 17.48187637, 17.28486386, 17.29409364],\n",
    "    'end_lng': [78.5118109, 78.54900442, 78.38514037, 78.49746223, 78.50900442],\n",
    "    'distance_km': [18.58788047, 25.35753755, 24.04466696, 6.463097236, 27.35753755],\n",
    "    'traffic_density': [4, 9, 6, 2, 7],\n",
    "    'weather_condition': ['cloudy', 'rainy', 'clear', 'cloudy', 'clear'],\n",
    "    'day_of_week': [4, 6, 1, 3, 5],\n",
    "    'hour_of_day': [18, 12, 10, 15, 13],\n",
    "    'ETA': [27.11301969, 60.71524816, 57.31640868, 36.63025265, 63.71524816]\n",
    "}\n",
    "\n",
    "# Combine the provided and additional data\n",
    "for key in data:\n",
    "    data[key].extend(additional_data[key])\n",
    "\n",
    "# Create DataFrame\n",
    "df = pd.DataFrame(data)\n",
    "\n",
    "# Display the DataFrame\n",
    "print(df)\n"
   ]
  },
  {
   "cell_type": "code",
   "execution_count": 19,
   "id": "260115d3-105b-4890-af2d-6caeffd8f2fd",
   "metadata": {},
   "outputs": [
    {
     "ename": "ValueError",
     "evalue": "could not convert string to float: ''",
     "output_type": "error",
     "traceback": [
      "\u001b[0;31m---------------------------------------------------------------------------\u001b[0m",
      "\u001b[0;31mValueError\u001b[0m                                Traceback (most recent call last)",
      "Cell \u001b[0;32mIn[19], line 1\u001b[0m\n\u001b[0;32m----> 1\u001b[0m start_lat \u001b[38;5;241m=\u001b[39m \u001b[38;5;28mfloat\u001b[39m(\u001b[38;5;28minput\u001b[39m(\u001b[38;5;124m\"\u001b[39m\u001b[38;5;124mEnter the star latttude:\u001b[39m\u001b[38;5;124m\"\u001b[39m))\n\u001b[1;32m      2\u001b[0m start_lang \u001b[38;5;241m=\u001b[39m \u001b[38;5;28mfloat\u001b[39m(\u001b[38;5;28minput\u001b[39m(\u001b[38;5;124m\"\u001b[39m\u001b[38;5;124mEnter the star lagitude:\u001b[39m\u001b[38;5;124m\"\u001b[39m))\n\u001b[1;32m      3\u001b[0m end_lat \u001b[38;5;241m=\u001b[39m \u001b[38;5;28mfloat\u001b[39m(\u001b[38;5;28minput\u001b[39m(\u001b[38;5;124m\"\u001b[39m\u001b[38;5;124mEnter the dest lattttude:\u001b[39m\u001b[38;5;124m\"\u001b[39m))\n",
      "\u001b[0;31mValueError\u001b[0m: could not convert string to float: ''"
     ]
    }
   ],
   "source": [
    "start_lat = float(input(\"Enter the star latttude:\"))\n",
    "start_lang = float(input(\"Enter the star lagitude:\"))\n",
    "end_lat = float(input(\"Enter the dest lattttude:\"))\n",
    "end_lang = float(input(\"Enter the end langitude:\"))\n",
    "dist = float(input(\"Enter the distance:\"))\n",
    "density = int(input(\"Enter the density:\"))\n",
    "weather = int(input(\"Enter the star lat:\"))\n",
    "day  = int(input(\"Enter the day:\"))\n",
    "hour = int(input(\"Enter the hour:\"))\n",
    "time = lr.predict([[start_lat,start_lang ,end_lat,end_lang,dist,density,weather,day,hour]])\n",
    "print(\"The Estimated time is\",time)"
   ]
  },
  {
   "cell_type": "code",
   "execution_count": null,
   "id": "6e117643-a181-4359-88f0-939277d801dc",
   "metadata": {},
   "outputs": [
    {
     "ename": "",
     "evalue": "",
     "output_type": "error",
     "traceback": [
      "\u001b[1;31mRunning cells with 'streamlit (Python 3.11.7)' requires the ipykernel package.\n",
      "\u001b[1;31mRun the following command to install 'ipykernel' into the Python environment. \n",
      "\u001b[1;31mCommand: '/Users/balu/Desktop/git-folder/Innomatics/ML_folder/ETA/streamlit/bin/python -m pip install ipykernel -U --force-reinstall'"
     ]
    }
   ],
   "source": []
  }
 ],
 "metadata": {
  "kernelspec": {
   "display_name": "Python 3 (ipykernel)",
   "language": "python",
   "name": "python3"
  },
  "language_info": {
   "codemirror_mode": {
    "name": "ipython",
    "version": 3
   },
   "file_extension": ".py",
   "mimetype": "text/x-python",
   "name": "python",
   "nbconvert_exporter": "python",
   "pygments_lexer": "ipython3",
   "version": "3.11.7"
  }
 },
 "nbformat": 4,
 "nbformat_minor": 5
}
